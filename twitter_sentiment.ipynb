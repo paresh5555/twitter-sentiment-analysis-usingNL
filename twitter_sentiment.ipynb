{
 "cells": [
  {
   "cell_type": "code",
   "execution_count": 5,
   "id": "c84358e0",
   "metadata": {
    "ExecuteTime": {
     "end_time": "2024-01-02T07:39:06.421166500Z",
     "start_time": "2024-01-02T07:38:57.427452600Z"
    }
   },
   "outputs": [
    {
     "name": "stdout",
     "output_type": "stream",
     "text": [
      "Requirement already satisfied: spacy in c:\\python39\\lib\\site-packages (3.7.2)\n",
      "Requirement already satisfied: typer<0.10.0,>=0.3.0 in c:\\python39\\lib\\site-packages (from spacy) (0.9.0)\n",
      "Requirement already satisfied: pydantic!=1.8,!=1.8.1,<3.0.0,>=1.7.4 in c:\\python39\\lib\\site-packages (from spacy) (2.5.3)\n",
      "Requirement already satisfied: srsly<3.0.0,>=2.4.3 in c:\\python39\\lib\\site-packages (from spacy) (2.4.8)\n",
      "Requirement already satisfied: cymem<2.1.0,>=2.0.2 in c:\\python39\\lib\\site-packages (from spacy) (2.0.8)\n",
      "Requirement already satisfied: packaging>=20.0 in c:\\python39\\lib\\site-packages (from spacy) (21.3)\n",
      "Requirement already satisfied: requests<3.0.0,>=2.13.0 in c:\\python39\\lib\\site-packages (from spacy) (2.27.1)\n",
      "Requirement already satisfied: catalogue<2.1.0,>=2.0.6 in c:\\python39\\lib\\site-packages (from spacy) (2.0.10)\n",
      "Requirement already satisfied: spacy-legacy<3.1.0,>=3.0.11 in c:\\python39\\lib\\site-packages (from spacy) (3.0.12)\n",
      "Requirement already satisfied: numpy>=1.19.0 in c:\\python39\\lib\\site-packages (from spacy) (1.22.3)\n",
      "Requirement already satisfied: wasabi<1.2.0,>=0.9.1 in c:\\python39\\lib\\site-packages (from spacy) (1.1.2)\n",
      "Requirement already satisfied: murmurhash<1.1.0,>=0.28.0 in c:\\python39\\lib\\site-packages (from spacy) (1.0.10)\n",
      "Requirement already satisfied: setuptools in c:\\python39\\lib\\site-packages (from spacy) (56.0.0)\n",
      "Requirement already satisfied: weasel<0.4.0,>=0.1.0 in c:\\python39\\lib\\site-packages (from spacy) (0.3.4)\n",
      "Requirement already satisfied: jinja2 in c:\\python39\\lib\\site-packages (from spacy) (2.11.0)\n",
      "Requirement already satisfied: smart-open<7.0.0,>=5.2.1 in c:\\python39\\lib\\site-packages (from spacy) (6.4.0)\n",
      "Requirement already satisfied: preshed<3.1.0,>=3.0.2 in c:\\python39\\lib\\site-packages (from spacy) (3.0.9)\n",
      "Requirement already satisfied: tqdm<5.0.0,>=4.38.0 in c:\\python39\\lib\\site-packages (from spacy) (4.63.1)\n",
      "Requirement already satisfied: spacy-loggers<2.0.0,>=1.0.0 in c:\\python39\\lib\\site-packages (from spacy) (1.0.5)\n",
      "Requirement already satisfied: langcodes<4.0.0,>=3.2.0 in c:\\python39\\lib\\site-packages (from spacy) (3.3.0)\n",
      "Requirement already satisfied: thinc<8.3.0,>=8.1.8 in c:\\python39\\lib\\site-packages (from spacy) (8.2.2)\n",
      "Requirement already satisfied: pyparsing!=3.0.5,>=2.0.2 in c:\\python39\\lib\\site-packages (from packaging>=20.0->spacy) (2.4.6)\n",
      "Requirement already satisfied: typing-extensions>=4.6.1 in c:\\python39\\lib\\site-packages (from pydantic!=1.8,!=1.8.1,<3.0.0,>=1.7.4->spacy) (4.8.0)\n",
      "Requirement already satisfied: pydantic-core==2.14.6 in c:\\python39\\lib\\site-packages (from pydantic!=1.8,!=1.8.1,<3.0.0,>=1.7.4->spacy) (2.14.6)\n",
      "Requirement already satisfied: annotated-types>=0.4.0 in c:\\python39\\lib\\site-packages (from pydantic!=1.8,!=1.8.1,<3.0.0,>=1.7.4->spacy) (0.6.0)\n",
      "Requirement already satisfied: urllib3<1.27,>=1.21.1 in c:\\python39\\lib\\site-packages (from requests<3.0.0,>=2.13.0->spacy) (1.26.9)\n",
      "Requirement already satisfied: certifi>=2017.4.17 in c:\\python39\\lib\\site-packages (from requests<3.0.0,>=2.13.0->spacy) (2019.11.28)\n",
      "Requirement already satisfied: charset-normalizer~=2.0.0 in c:\\python39\\lib\\site-packages (from requests<3.0.0,>=2.13.0->spacy) (2.0.12)\n",
      "Requirement already satisfied: idna<4,>=2.5 in c:\\python39\\lib\\site-packages (from requests<3.0.0,>=2.13.0->spacy) (3.3)\n",
      "Requirement already satisfied: confection<1.0.0,>=0.0.1 in c:\\python39\\lib\\site-packages (from thinc<8.3.0,>=8.1.8->spacy) (0.1.4)\n",
      "Requirement already satisfied: blis<0.8.0,>=0.7.8 in c:\\python39\\lib\\site-packages (from thinc<8.3.0,>=8.1.8->spacy) (0.7.11)\n",
      "Requirement already satisfied: colorama in c:\\python39\\lib\\site-packages (from tqdm<5.0.0,>=4.38.0->spacy) (0.4.6)\n",
      "Requirement already satisfied: click<9.0.0,>=7.1.1 in c:\\python39\\lib\\site-packages (from typer<0.10.0,>=0.3.0->spacy) (8.1.7)\n",
      "Requirement already satisfied: cloudpathlib<0.17.0,>=0.7.0 in c:\\python39\\lib\\site-packages (from weasel<0.4.0,>=0.1.0->spacy) (0.16.0)\n",
      "Requirement already satisfied: MarkupSafe>=0.23 in c:\\python39\\lib\\site-packages (from jinja2->spacy) (1.1.1)\n",
      "Note: you may need to restart the kernel to use updated packages.\n"
     ]
    },
    {
     "name": "stderr",
     "output_type": "stream",
     "text": [
      "WARNING: Ignoring invalid distribution -ip (c:\\python39\\lib\\site-packages)\n",
      "WARNING: Ignoring invalid distribution -ip (c:\\python39\\lib\\site-packages)\n",
      "WARNING: Ignoring invalid distribution -ip (c:\\python39\\lib\\site-packages)\n",
      "WARNING: Ignoring invalid distribution -ip (c:\\python39\\lib\\site-packages)\n",
      "WARNING: Ignoring invalid distribution -ip (c:\\python39\\lib\\site-packages)\n",
      "WARNING: Ignoring invalid distribution -ip (c:\\python39\\lib\\site-packages)\n",
      "UsageError: Line magic function `%python` not found (But cell magic `%%python` exists, did you mean that instead?).\n"
     ]
    }
   ],
   "source": [
    "# %pip install spacy\n",
    "# %python -m spacy download en_core_web_sm\n",
    "# %python -m spacy download en\n",
    "# %pip install en_core_web_sm-3.1.0-py3-none-any.whl"
   ]
  },
  {
   "cell_type": "code",
   "execution_count": 6,
   "id": "624c2b3b",
   "metadata": {
    "scrolled": true,
    "ExecuteTime": {
     "end_time": "2024-01-02T07:40:45.753945200Z",
     "start_time": "2024-01-02T07:39:47.946636300Z"
    }
   },
   "outputs": [
    {
     "name": "stdout",
     "output_type": "stream",
     "text": [
      "Requirement already satisfied: beautifulsoup4 in c:\\users\\pares\\anaconda3\\lib\\site-packages (4.10.0)\n",
      "Requirement already satisfied: soupsieve>1.2 in c:\\users\\pares\\anaconda3\\lib\\site-packages (from beautifulsoup4) (2.2.1)\n"
     ]
    },
    {
     "name": "stderr",
     "output_type": "stream",
     "text": [
      "DEPRECATION: pyodbc 4.0.0-unsupported has a non-standard version number. pip 24.0 will enforce this behaviour change. A possible replacement is to upgrade to a newer version of pyodbc or contact the author to suggest that they release a version with a conforming version number. Discussion can be found at https://github.com/pypa/pip/issues/12063\n"
     ]
    },
    {
     "name": "stdout",
     "output_type": "stream",
     "text": [
      "Requirement already satisfied: textblob in c:\\python39\\lib\\site-packages (0.17.1)Note: you may need to restart the kernel to use updated packages.\n",
      "Requirement already satisfied: nltk>=3.1 in c:\\python39\\lib\\site-packages (from textblob) (3.7)\n",
      "Requirement already satisfied: regex>=2021.8.3 in c:\\python39\\lib\\site-packages (from nltk>=3.1->textblob) (2022.3.15)\n",
      "Requirement already satisfied: tqdm in c:\\python39\\lib\\site-packages (from nltk>=3.1->textblob) (4.63.1)\n",
      "Requirement already satisfied: click in c:\\python39\\lib\\site-packages (from nltk>=3.1->textblob) (8.1.7)\n",
      "Requirement already satisfied: joblib in c:\\python39\\lib\\site-packages (from nltk>=3.1->textblob) (0.14.1)\n",
      "Requirement already satisfied: colorama in c:\\python39\\lib\\site-packages (from click->nltk>=3.1->textblob) (0.4.6)\n"
     ]
    },
    {
     "name": "stderr",
     "output_type": "stream",
     "text": [
      "WARNING: Ignoring invalid distribution -ip (c:\\python39\\lib\\site-packages)\n",
      "WARNING: Ignoring invalid distribution -ip (c:\\python39\\lib\\site-packages)\n",
      "WARNING: Ignoring invalid distribution -ip (c:\\python39\\lib\\site-packages)\n",
      "WARNING: Ignoring invalid distribution -ip (c:\\python39\\lib\\site-packages)\n",
      "WARNING: Ignoring invalid distribution -ip (c:\\python39\\lib\\site-packages)\n",
      "WARNING: Ignoring invalid distribution -ip (c:\\python39\\lib\\site-packages)\n"
     ]
    },
    {
     "name": "stdout",
     "output_type": "stream",
     "text": [
      "Collecting git+https://github.com/laxmimerit/preprocess_kgptalkie.git\n",
      "  Cloning https://github.com/laxmimerit/preprocess_kgptalkie.git to c:\\users\\pares\\appdata\\local\\temp\\pip-req-build-ss924pnd\n",
      "  Resolved https://github.com/laxmimerit/preprocess_kgptalkie.git to commit 96bf02872d9756f29d6cddb8aafaedcd2a39bbb4\n",
      "  Preparing metadata (setup.py): started\n",
      "  Preparing metadata (setup.py): finished with status 'done'\n",
      "Building wheels for collected packages: preprocess-kgptalkie\n",
      "  Building wheel for preprocess-kgptalkie (setup.py): started\n",
      "  Building wheel for preprocess-kgptalkie (setup.py): finished with status 'done'\n",
      "  Created wheel for preprocess-kgptalkie: filename=preprocess_kgptalkie-0.1.3-py3-none-any.whl size=7676 sha256=20e8bc4aaf2cf37b0dce5e2c152bde976f17b91ab772b55bee20e817189e1da8\n",
      "  Stored in directory: C:\\Users\\pares\\AppData\\Local\\Temp\\pip-ephem-wheel-cache-wy8oej2x\\wheels\\d1\\c3\\bb\\559fe93e652b51cbc532f17e9693f3b70055f8560cf06c1fb3\n",
      "Successfully built preprocess-kgptalkie\n",
      "Installing collected packages: preprocess-kgptalkie\n",
      "  Attempting uninstall: preprocess-kgptalkie\n",
      "    Found existing installation: preprocess-kgptalkie 0.1.3\n",
      "    Uninstalling preprocess-kgptalkie-0.1.3:\n",
      "      Successfully uninstalled preprocess-kgptalkie-0.1.3\n",
      "Successfully installed preprocess-kgptalkie-0.1.3\n"
     ]
    },
    {
     "name": "stderr",
     "output_type": "stream",
     "text": [
      "  Running command git clone --filter=blob:none --quiet https://github.com/laxmimerit/preprocess_kgptalkie.git 'C:\\Users\\pares\\AppData\\Local\\Temp\\pip-req-build-ss924pnd'\n",
      "DEPRECATION: pyodbc 4.0.0-unsupported has a non-standard version number. pip 24.0 will enforce this behaviour change. A possible replacement is to upgrade to a newer version of pyodbc or contact the author to suggest that they release a version with a conforming version number. Discussion can be found at https://github.com/pypa/pip/issues/12063\n"
     ]
    }
   ],
   "source": [
    "\n",
    "\n",
    "# !pip install beautifulsoup4\n",
    "# %pip install textblob\n",
    "# !pip install git+https://github.com/laxmimerit/preprocess_kgptalkie.git --upgrade --force-reinstall"
   ]
  },
  {
   "cell_type": "code",
   "execution_count": 7,
   "id": "8312c985",
   "metadata": {
    "scrolled": true,
    "ExecuteTime": {
     "end_time": "2024-01-02T07:41:03.923679100Z",
     "start_time": "2024-01-02T07:40:45.757962700Z"
    }
   },
   "outputs": [],
   "source": [
    "import re\n",
    "import os\n",
    "import sys\n",
    "import json\n",
    "\n",
    "import pandas as pd\n",
    "import numpy as np\n",
    "import spacy\n",
    "import textblob\n",
    "from spacy.lang.en.stop_words import STOP_WORDS as stopwords\n",
    "from bs4 import BeautifulSoup\n",
    "import unicodedata\n",
    "from textblob import TextBlob\n",
    "import en_core_web_sm"
   ]
  },
  {
   "cell_type": "code",
   "execution_count": 8,
   "id": "76f15db1",
   "metadata": {
    "ExecuteTime": {
     "end_time": "2024-01-02T07:41:03.966995800Z",
     "start_time": "2024-01-02T07:41:03.941051900Z"
    }
   },
   "outputs": [],
   "source": [
    "import warnings "
   ]
  },
  {
   "cell_type": "code",
   "execution_count": 9,
   "id": "d1bc4f02",
   "metadata": {
    "ExecuteTime": {
     "end_time": "2024-01-02T07:41:04.048775600Z",
     "start_time": "2024-01-02T07:41:03.952588400Z"
    }
   },
   "outputs": [],
   "source": [
    "warnings.filterwarnings('ignore')\n",
    "import pandas as pd"
   ]
  },
  {
   "cell_type": "code",
   "execution_count": 10,
   "id": "244aaccd",
   "metadata": {
    "ExecuteTime": {
     "end_time": "2024-01-02T07:41:04.879148600Z",
     "start_time": "2024-01-02T07:41:03.971980100Z"
    }
   },
   "outputs": [],
   "source": [
    "df = pd.read_csv('twitter_sentiment.csv',header =None,index_col=0)"
   ]
  },
  {
   "cell_type": "code",
   "execution_count": 11,
   "id": "4659d57a",
   "metadata": {
    "ExecuteTime": {
     "end_time": "2024-01-02T07:41:04.977208200Z",
     "start_time": "2024-01-02T07:41:04.859807900Z"
    }
   },
   "outputs": [
    {
     "data": {
      "text/plain": "                1         2                                                  3\n0                                                                             \n2401  Borderlands  Positive  im getting on borderlands and i will murder yo...\n2401  Borderlands  Positive  I am coming to the borders and I will kill you...\n2401  Borderlands  Positive  im getting on borderlands and i will kill you ...\n2401  Borderlands  Positive  im coming on borderlands and i will murder you...\n2401  Borderlands  Positive  im getting on borderlands 2 and i will murder ...",
      "text/html": "<div>\n<style scoped>\n    .dataframe tbody tr th:only-of-type {\n        vertical-align: middle;\n    }\n\n    .dataframe tbody tr th {\n        vertical-align: top;\n    }\n\n    .dataframe thead th {\n        text-align: right;\n    }\n</style>\n<table border=\"1\" class=\"dataframe\">\n  <thead>\n    <tr style=\"text-align: right;\">\n      <th></th>\n      <th>1</th>\n      <th>2</th>\n      <th>3</th>\n    </tr>\n    <tr>\n      <th>0</th>\n      <th></th>\n      <th></th>\n      <th></th>\n    </tr>\n  </thead>\n  <tbody>\n    <tr>\n      <th>2401</th>\n      <td>Borderlands</td>\n      <td>Positive</td>\n      <td>im getting on borderlands and i will murder yo...</td>\n    </tr>\n    <tr>\n      <th>2401</th>\n      <td>Borderlands</td>\n      <td>Positive</td>\n      <td>I am coming to the borders and I will kill you...</td>\n    </tr>\n    <tr>\n      <th>2401</th>\n      <td>Borderlands</td>\n      <td>Positive</td>\n      <td>im getting on borderlands and i will kill you ...</td>\n    </tr>\n    <tr>\n      <th>2401</th>\n      <td>Borderlands</td>\n      <td>Positive</td>\n      <td>im coming on borderlands and i will murder you...</td>\n    </tr>\n    <tr>\n      <th>2401</th>\n      <td>Borderlands</td>\n      <td>Positive</td>\n      <td>im getting on borderlands 2 and i will murder ...</td>\n    </tr>\n  </tbody>\n</table>\n</div>"
     },
     "execution_count": 11,
     "metadata": {},
     "output_type": "execute_result"
    }
   ],
   "source": [
    "df.head()"
   ]
  },
  {
   "cell_type": "code",
   "execution_count": 12,
   "id": "f4cddf5e",
   "metadata": {
    "ExecuteTime": {
     "end_time": "2024-01-02T07:41:12.059344400Z",
     "start_time": "2024-01-02T07:41:11.892565400Z"
    }
   },
   "outputs": [],
   "source": [
    "df = df[[2,3]].reset_index(drop = True)\n",
    "\n",
    " "
   ]
  },
  {
   "cell_type": "code",
   "execution_count": 13,
   "id": "b76f6e6b",
   "metadata": {
    "ExecuteTime": {
     "end_time": "2024-01-02T07:41:15.936795900Z",
     "start_time": "2024-01-02T07:41:15.751589100Z"
    }
   },
   "outputs": [
    {
     "data": {
      "text/plain": "  sentiment                                               text\n0  Positive  im getting on borderlands and i will murder yo...\n1  Positive  I am coming to the borders and I will kill you...\n2  Positive  im getting on borderlands and i will kill you ...\n3  Positive  im coming on borderlands and i will murder you...\n4  Positive  im getting on borderlands 2 and i will murder ...",
      "text/html": "<div>\n<style scoped>\n    .dataframe tbody tr th:only-of-type {\n        vertical-align: middle;\n    }\n\n    .dataframe tbody tr th {\n        vertical-align: top;\n    }\n\n    .dataframe thead th {\n        text-align: right;\n    }\n</style>\n<table border=\"1\" class=\"dataframe\">\n  <thead>\n    <tr style=\"text-align: right;\">\n      <th></th>\n      <th>sentiment</th>\n      <th>text</th>\n    </tr>\n  </thead>\n  <tbody>\n    <tr>\n      <th>0</th>\n      <td>Positive</td>\n      <td>im getting on borderlands and i will murder yo...</td>\n    </tr>\n    <tr>\n      <th>1</th>\n      <td>Positive</td>\n      <td>I am coming to the borders and I will kill you...</td>\n    </tr>\n    <tr>\n      <th>2</th>\n      <td>Positive</td>\n      <td>im getting on borderlands and i will kill you ...</td>\n    </tr>\n    <tr>\n      <th>3</th>\n      <td>Positive</td>\n      <td>im coming on borderlands and i will murder you...</td>\n    </tr>\n    <tr>\n      <th>4</th>\n      <td>Positive</td>\n      <td>im getting on borderlands 2 and i will murder ...</td>\n    </tr>\n  </tbody>\n</table>\n</div>"
     },
     "execution_count": 13,
     "metadata": {},
     "output_type": "execute_result"
    }
   ],
   "source": [
    "df.columns = ['sentiment', 'text']\n",
    "df.head()"
   ]
  },
  {
   "cell_type": "code",
   "execution_count": 14,
   "id": "16a3b59d",
   "metadata": {
    "ExecuteTime": {
     "end_time": "2024-01-02T07:41:17.254447Z",
     "start_time": "2024-01-02T07:41:17.046879500Z"
    }
   },
   "outputs": [
    {
     "name": "stdout",
     "output_type": "stream",
     "text": [
      "<class 'pandas.core.frame.DataFrame'>\n",
      "RangeIndex: 75682 entries, 0 to 75681\n",
      "Data columns (total 2 columns):\n",
      " #   Column     Non-Null Count  Dtype \n",
      "---  ------     --------------  ----- \n",
      " 0   sentiment  75682 non-null  object\n",
      " 1   text       74996 non-null  object\n",
      "dtypes: object(2)\n",
      "memory usage: 1.2+ MB\n"
     ]
    }
   ],
   "source": [
    "df.info()"
   ]
  },
  {
   "cell_type": "code",
   "execution_count": 15,
   "id": "00a57011",
   "metadata": {
    "ExecuteTime": {
     "end_time": "2024-01-02T07:41:18.824181300Z",
     "start_time": "2024-01-02T07:41:18.262735500Z"
    }
   },
   "outputs": [
    {
     "name": "stdout",
     "output_type": "stream",
     "text": [
      "<class 'pandas.core.frame.DataFrame'>\n",
      "RangeIndex: 75682 entries, 0 to 75681\n",
      "Data columns (total 2 columns):\n",
      " #   Column     Non-Null Count  Dtype \n",
      "---  ------     --------------  ----- \n",
      " 0   sentiment  75682 non-null  object\n",
      " 1   text       74996 non-null  object\n",
      "dtypes: object(2)\n",
      "memory usage: 1.2+ MB\n",
      "(74996, 2)\n"
     ]
    }
   ],
   "source": [
    "df.info()\n",
    "\n",
    "df.isnull().sum()\n",
    "\n",
    "df.dropna(inplace=True)\n",
    "print(df.shape)\n",
    "\n",
    "df = df[df['text'].apply(len)>5]"
   ]
  },
  {
   "cell_type": "code",
   "execution_count": 16,
   "id": "a2e631a4",
   "metadata": {
    "ExecuteTime": {
     "end_time": "2024-01-02T07:41:19.554409Z",
     "start_time": "2024-01-02T07:41:19.359077600Z"
    }
   },
   "outputs": [
    {
     "name": "stdout",
     "output_type": "stream",
     "text": [
      "(72883, 2)\n"
     ]
    }
   ],
   "source": [
    "print(df.shape)"
   ]
  },
  {
   "cell_type": "code",
   "execution_count": 17,
   "id": "df5601bb",
   "metadata": {
    "ExecuteTime": {
     "end_time": "2024-01-02T07:41:20.457144900Z",
     "start_time": "2024-01-02T07:41:20.268581700Z"
    }
   },
   "outputs": [
    {
     "data": {
      "text/plain": "0         53\n1         51\n2         50\n3         51\n4         57\n        ... \n75677    281\n75678    248\n75679    120\n75680     49\n75681    116\nName: text, Length: 72883, dtype: int64"
     },
     "execution_count": 17,
     "metadata": {},
     "output_type": "execute_result"
    }
   ],
   "source": [
    "df['text'].apply(len)"
   ]
  },
  {
   "cell_type": "code",
   "execution_count": 18,
   "id": "25d0871b",
   "metadata": {
    "ExecuteTime": {
     "end_time": "2024-01-02T07:41:21.394484800Z",
     "start_time": "2024-01-02T07:41:21.250449600Z"
    }
   },
   "outputs": [],
   "source": [
    "from sklearn.feature_extraction.text import CountVectorizer"
   ]
  },
  {
   "cell_type": "code",
   "execution_count": 19,
   "id": "2e72dabd",
   "metadata": {
    "ExecuteTime": {
     "end_time": "2024-01-02T07:41:26.721035300Z",
     "start_time": "2024-01-02T07:41:22.547928500Z"
    }
   },
   "outputs": [],
   "source": [
    "nlp = en_core_web_sm.load()\n",
    "\n"
   ]
  },
  {
   "cell_type": "code",
   "execution_count": 20,
   "id": "cef075a3",
   "metadata": {
    "ExecuteTime": {
     "end_time": "2024-01-02T07:41:26.722030300Z",
     "start_time": "2024-01-02T07:41:26.591019600Z"
    }
   },
   "outputs": [],
   "source": [
    " def _get_wordcounts(x):\n",
    "\tlength = len(str(x).split())\n",
    "\treturn length\n",
    "\n",
    "def _get_charcounts(x):\n",
    "\ts = x.split()\n",
    "\tx = ''.join(s)\n",
    "\treturn len(x)\n",
    "\n",
    "def _get_avg_wordlength(x):\n",
    "\tcount = _get_charcounts(x)/_get_wordcounts(x)\n",
    "\treturn count\n",
    "\n",
    "def _get_stopwords_counts(x):\n",
    "\tl = len([t for t in x.split() if t in stopwords])\n",
    "\treturn l"
   ]
  },
  {
   "cell_type": "code",
   "execution_count": 21,
   "id": "c677f3c7",
   "metadata": {
    "ExecuteTime": {
     "end_time": "2024-01-02T07:41:26.747664Z",
     "start_time": "2024-01-02T07:41:26.635260700Z"
    }
   },
   "outputs": [],
   "source": [
    "def _get_hashtag_counts(x):\n",
    "\tl = len([t for t in x.split() if t.startswith('#')])\n",
    "\treturn l\n",
    "\n",
    "def _get_mentions_counts(x):\n",
    "\tl = len([t for t in x.split() if t.startswith('@')])\n",
    "\treturn l\n",
    "\n",
    "def _get_digit_counts(x):\n",
    "\tdigits = re.findall(r'[0-9,.]+', x)\n",
    "\treturn len(digits)\n",
    "\n",
    "def _get_uppercase_counts(x):\n",
    "\treturn len([t for t in x.split() if t.isupper()])\n",
    "\n",
    "def _cont_exp(x):\n",
    "\tabbreviations = json.load(open(abbreviations_path))\n",
    "\n",
    "\tif type(x) is str:\n",
    "\t\tfor key in abbreviations:\n",
    "\t\t\tvalue = abbreviations[key]\n",
    "\t\t\traw_text = r'\\b' + key + r'\\b'\n",
    "\t\t\tx = re.sub(raw_text, value, x)\n",
    "\t\t\t# print(raw_text,value, x)\n",
    "\t\treturn x\n",
    "\telse:\n",
    "\t\treturn x"
   ]
  },
  {
   "cell_type": "code",
   "execution_count": 22,
   "id": "bed2f953",
   "metadata": {
    "ExecuteTime": {
     "end_time": "2024-01-02T07:41:26.748672100Z",
     "start_time": "2024-01-02T07:41:26.679422200Z"
    }
   },
   "outputs": [],
   "source": [
    "def _get_emails(x):\n",
    "\temails = re.findall(r'([a-z0-9+._-]+@[a-z0-9+._-]+\\.[a-z0-9+_-]+\\b)', x)\n",
    "\tcounts = len(emails)\n",
    "\n",
    "\treturn counts, emails\n",
    "\n",
    "\n",
    "def _remove_emails(x):\n",
    "\treturn re.sub(r'([a-z0-9+._-]+@[a-z0-9+._-]+\\.[a-z0-9+_-]+)',\"\", x)\n",
    "\n",
    "def _get_urls(x):\n",
    "\turls = re.findall(r'(http|https|ftp|ssh)://([\\w_-]+(?:(?:\\.[\\w_-]+)+))([\\w.,@?^=%&:/~+#-]*[\\w@?^=%&/~+#-])?', x)\n",
    "\tcounts = len(urls)\n",
    "\n",
    "\treturn counts, urls\n",
    "\n",
    "def _remove_urls(x):\n",
    "\treturn re.sub(r'(http|https|ftp|ssh)://([\\w_-]+(?:(?:\\.[\\w_-]+)+))([\\w.,@?^=%&:/~+#-]*[\\w@?^=%&/~+#-])?', '' , x)\n",
    "\n",
    "def _remove_rt(x):\n",
    "\treturn re.sub(r'\\brt\\b', '', x).strip()\n",
    "\n",
    "def _remove_special_chars(x):\n",
    "\tx = re.sub(r'[^\\w ]+', \"\", x)\n",
    "\tx = ' '.join(x.split())\n",
    "\treturn x\n",
    "\n",
    "def _remove_html_tags(x):\n",
    "    \n",
    "\treturn BeautifulSoup(x, 'lxml').get_text().strip()\n",
    "\n",
    "def _remove_accented_chars(x):\n",
    "\tx = unicodedata.normalize('NFKD', x).encode('ascii', 'ignore').decode('utf-8', 'ignore')\n",
    "\treturn x\n",
    "\n",
    "def _remove_stopwords(x):\n",
    "\treturn ' '.join([t for t in x.split() if t not in stopwords])\t"
   ]
  },
  {
   "cell_type": "code",
   "execution_count": 23,
   "id": "bc5e4167",
   "metadata": {
    "ExecuteTime": {
     "end_time": "2024-01-02T07:41:26.749668300Z",
     "start_time": "2024-01-02T07:41:26.709966300Z"
    }
   },
   "outputs": [],
   "source": [
    "def _make_base(x):\n",
    "\tx = str(x)\n",
    "\tx_list = []\n",
    "\tdoc = nlp(x)\n",
    "\t\n",
    "\tfor token in doc:\n",
    "\t\tlemma = token.lemma_\n",
    "\t\tif lemma == '-PRON-' or lemma == 'be':\n",
    "\t\t\tlemma = token.text\n",
    "\n",
    "\t\tx_list.append(lemma)\n",
    "\treturn ' '.join(x_list)"
   ]
  },
  {
   "cell_type": "code",
   "execution_count": 24,
   "id": "5d01236e",
   "metadata": {
    "ExecuteTime": {
     "end_time": "2024-01-02T07:41:26.856674100Z",
     "start_time": "2024-01-02T07:41:26.724574400Z"
    }
   },
   "outputs": [],
   "source": [
    "def _get_value_counts(df, col):\n",
    "\ttext = ' '.join(df[col])\n",
    "\ttext = text.split()\n",
    "\tfreq = pd.Series(text).value_counts()\n",
    "\treturn freq\n"
   ]
  },
  {
   "cell_type": "code",
   "execution_count": 25,
   "id": "6fbc9960",
   "metadata": {
    "ExecuteTime": {
     "end_time": "2024-01-02T07:41:27.001744Z",
     "start_time": "2024-01-02T07:41:26.751664500Z"
    }
   },
   "outputs": [],
   "source": [
    "def _remove_common_words(x, freq, n=20):\n",
    "\tfn = freq[:n]\n",
    "\tx = ' '.join([t for t in x.split() if t not in fn])\n",
    "\treturn x\n"
   ]
  },
  {
   "cell_type": "code",
   "execution_count": 26,
   "id": "ea705b57",
   "metadata": {
    "ExecuteTime": {
     "end_time": "2024-01-02T07:41:27.472307900Z",
     "start_time": "2024-01-02T07:41:27.189140100Z"
    }
   },
   "outputs": [],
   "source": [
    "def _remove_rarewords(x, freq, n=20):\n",
    "\tfn = freq.tail(n)\n",
    "\tx = ' '.join([t for t in x.split() if t not in fn])\n",
    "\treturn x\n",
    "\n",
    "def _remove_dups_char(x):\n",
    "\tx = re.sub(\"(.)\\\\1{2,}\", \"\\\\1\", x)\n",
    "\treturn x\n",
    "\n",
    "def _spelling_correction(x):\n",
    "\tx = TextBlob(x).correct()\n",
    "\treturn x\n"
   ]
  },
  {
   "cell_type": "code",
   "execution_count": 27,
   "id": "e9e73536",
   "metadata": {
    "ExecuteTime": {
     "end_time": "2024-01-02T07:41:28.544210500Z",
     "start_time": "2024-01-02T07:41:28.365731200Z"
    }
   },
   "outputs": [],
   "source": [
    "def _get_basic_features(df):\n",
    "\tif type(df) == pd.core.frame.DataFrame:\n",
    "\t\tdf['char_counts'] = df['text'].apply(lambda x: _get_charcounts(x))\n",
    "\t\tdf['word_counts'] = df['text'].apply(lambda x: _get_wordcounts(x))\n",
    "\t\tdf['avg_wordlength'] = df['text'].apply(lambda x: _get_avg_wordlength(x))\n",
    "\t\tdf['stopwords_counts'] = df['text'].apply(lambda x: _get_stopwords_counts(x))\n",
    "\t\tdf['hashtag_counts'] = df['text'].apply(lambda x: _get_hashtag_counts(x))\n",
    "\t\tdf['mentions_counts'] = df['text'].apply(lambda x: _get_mentions_counts(x))\n",
    "\t\tdf['digits_counts'] = df['text'].apply(lambda x: _get_digit_counts(x))\n",
    "\t\tdf['uppercase_counts'] = df['text'].apply(lambda x: _get_uppercase_counts(x))\n",
    "\telse:\n",
    "\t\tprint('ERROR: This function takes only Pandas DataFrame')\n",
    "\t\t\n",
    "\treturn df"
   ]
  },
  {
   "cell_type": "code",
   "execution_count": 28,
   "id": "13ce5c91",
   "metadata": {
    "ExecuteTime": {
     "end_time": "2024-01-02T07:41:29.589217200Z",
     "start_time": "2024-01-02T07:41:29.439603500Z"
    }
   },
   "outputs": [],
   "source": [
    "def _get_ngram(df, col, ngram_range):\n",
    "\tvectorizer = CountVectorizer(ngram_range=(ngram_range, ngram_range))\n",
    "\tvectorizer.fit_transform(df[col])\n",
    "\tngram = vectorizer.vocabulary_\n",
    "\tngram = sorted(ngram.items(), key = lambda x: x[1], reverse=True)\n",
    "\n",
    "\treturn ngram"
   ]
  },
  {
   "cell_type": "code",
   "execution_count": 29,
   "id": "4ba4ae43",
   "metadata": {
    "ExecuteTime": {
     "end_time": "2024-01-02T07:41:40.118772500Z",
     "start_time": "2024-01-02T07:41:30.203595600Z"
    }
   },
   "outputs": [
    {
     "data": {
      "text/plain": "  sentiment                                               text  char_counts  \\\n0  Positive  im getting on borderlands and i will murder yo...           43   \n1  Positive  I am coming to the borders and I will kill you...           40   \n2  Positive  im getting on borderlands and i will kill you ...           41   \n3  Positive  im coming on borderlands and i will murder you...           42   \n4  Positive  im getting on borderlands 2 and i will murder ...           46   \n\n   word_counts  avg_wordlength  stopwords_counts  hashtag_counts  \\\n0           11        3.909091                 6               0   \n1           12        3.333333                 6               0   \n2           10        4.100000                 5               0   \n3           10        4.200000                 5               0   \n4           12        3.833333                 6               0   \n\n   mentions_counts  digits_counts  uppercase_counts  \n0                0              1                 0  \n1                0              1                 2  \n2                0              1                 0  \n3                0              1                 0  \n4                0              2                 0  ",
      "text/html": "<div>\n<style scoped>\n    .dataframe tbody tr th:only-of-type {\n        vertical-align: middle;\n    }\n\n    .dataframe tbody tr th {\n        vertical-align: top;\n    }\n\n    .dataframe thead th {\n        text-align: right;\n    }\n</style>\n<table border=\"1\" class=\"dataframe\">\n  <thead>\n    <tr style=\"text-align: right;\">\n      <th></th>\n      <th>sentiment</th>\n      <th>text</th>\n      <th>char_counts</th>\n      <th>word_counts</th>\n      <th>avg_wordlength</th>\n      <th>stopwords_counts</th>\n      <th>hashtag_counts</th>\n      <th>mentions_counts</th>\n      <th>digits_counts</th>\n      <th>uppercase_counts</th>\n    </tr>\n  </thead>\n  <tbody>\n    <tr>\n      <th>0</th>\n      <td>Positive</td>\n      <td>im getting on borderlands and i will murder yo...</td>\n      <td>43</td>\n      <td>11</td>\n      <td>3.909091</td>\n      <td>6</td>\n      <td>0</td>\n      <td>0</td>\n      <td>1</td>\n      <td>0</td>\n    </tr>\n    <tr>\n      <th>1</th>\n      <td>Positive</td>\n      <td>I am coming to the borders and I will kill you...</td>\n      <td>40</td>\n      <td>12</td>\n      <td>3.333333</td>\n      <td>6</td>\n      <td>0</td>\n      <td>0</td>\n      <td>1</td>\n      <td>2</td>\n    </tr>\n    <tr>\n      <th>2</th>\n      <td>Positive</td>\n      <td>im getting on borderlands and i will kill you ...</td>\n      <td>41</td>\n      <td>10</td>\n      <td>4.100000</td>\n      <td>5</td>\n      <td>0</td>\n      <td>0</td>\n      <td>1</td>\n      <td>0</td>\n    </tr>\n    <tr>\n      <th>3</th>\n      <td>Positive</td>\n      <td>im coming on borderlands and i will murder you...</td>\n      <td>42</td>\n      <td>10</td>\n      <td>4.200000</td>\n      <td>5</td>\n      <td>0</td>\n      <td>0</td>\n      <td>1</td>\n      <td>0</td>\n    </tr>\n    <tr>\n      <th>4</th>\n      <td>Positive</td>\n      <td>im getting on borderlands 2 and i will murder ...</td>\n      <td>46</td>\n      <td>12</td>\n      <td>3.833333</td>\n      <td>6</td>\n      <td>0</td>\n      <td>0</td>\n      <td>2</td>\n      <td>0</td>\n    </tr>\n  </tbody>\n</table>\n</div>"
     },
     "execution_count": 29,
     "metadata": {},
     "output_type": "execute_result"
    }
   ],
   "source": [
    "df= _get_basic_features(df)\n",
    "df.head()"
   ]
  },
  {
   "cell_type": "code",
   "execution_count": 30,
   "id": "89766393",
   "metadata": {
    "ExecuteTime": {
     "end_time": "2024-01-02T07:41:40.177028500Z",
     "start_time": "2024-01-02T07:41:40.099389200Z"
    }
   },
   "outputs": [
    {
     "data": {
      "text/plain": "Index(['sentiment', 'text', 'char_counts', 'word_counts', 'avg_wordlength',\n       'stopwords_counts', 'hashtag_counts', 'mentions_counts',\n       'digits_counts', 'uppercase_counts'],\n      dtype='object')"
     },
     "execution_count": 30,
     "metadata": {},
     "output_type": "execute_result"
    }
   ],
   "source": [
    "df.columns"
   ]
  },
  {
   "cell_type": "code",
   "execution_count": 31,
   "id": "a50352b9",
   "metadata": {
    "ExecuteTime": {
     "end_time": "2024-01-02T07:41:40.270690300Z",
     "start_time": "2024-01-02T07:41:40.127443700Z"
    }
   },
   "outputs": [],
   "source": [
    "import matplotlib.pyplot as plt\n",
    "import seaborn as sns\n",
    "%matplotlib inline"
   ]
  },
  {
   "cell_type": "code",
   "execution_count": 32,
   "id": "bbd2d058",
   "metadata": {
    "ExecuteTime": {
     "end_time": "2024-01-02T07:42:07.389731900Z",
     "start_time": "2024-01-02T07:41:42.941702200Z"
    }
   },
   "outputs": [
    {
     "data": {
      "text/plain": "<Figure size 864x576 with 8 Axes>",
      "image/png": "[encoded data removed]"
     },
     "metadata": {
      "needs_background": "light"
     },
     "output_type": "display_data"
    }
   ],
   "source": [
    "plt.figure(figsize=(12,8))\n",
    "num_cols = df.select_dtypes(include='number').columns\n",
    "# print (num_cols)\n",
    "\n",
    "for index, cols in enumerate(num_cols):\n",
    "    plt.subplot(2,4,index+1)\n",
    "    sns.kdeplot(data=df,x=cols, hue = 'sentiment',fill=False)\n",
    "plt.tight_layout\n",
    "plt.show()\n",
    "    "
   ]
  },
  {
   "cell_type": "code",
   "execution_count": 33,
   "id": "0d3b7648",
   "metadata": {
    "ExecuteTime": {
     "end_time": "2024-01-02T07:42:07.705967300Z",
     "start_time": "2024-01-02T07:42:07.393655800Z"
    }
   },
   "outputs": [
    {
     "data": {
      "text/plain": "<AxesSubplot:ylabel='sentiment'>"
     },
     "execution_count": 33,
     "metadata": {},
     "output_type": "execute_result"
    },
    {
     "data": {
      "text/plain": "<Figure size 432x288 with 1 Axes>",
      "image/png": "[encoded data removed]"
     },
     "metadata": {},
     "output_type": "display_data"
    }
   ],
   "source": [
    "df['sentiment'].value_counts().plot(kind ='pie',autopct ='%1.0f%%')"
   ]
  },
  {
   "cell_type": "code",
   "execution_count": 34,
   "id": "4b228c58",
   "metadata": {
    "ExecuteTime": {
     "end_time": "2024-01-02T07:42:29.269656Z",
     "start_time": "2024-01-02T07:42:13.513950100Z"
    }
   },
   "outputs": [
    {
     "name": "stdout",
     "output_type": "stream",
     "text": [
      "Requirement already satisfied: wordcloud in c:\\python39\\lib\\site-packages (1.9.3)Note: you may need to restart the kernel to use updated packages.\n"
     ]
    },
    {
     "name": "stderr",
     "output_type": "stream",
     "text": [
      "WARNING: Ignoring invalid distribution -ip (c:\\python39\\lib\\site-packages)"
     ]
    },
    {
     "name": "stdout",
     "output_type": "stream",
     "text": [
      "\n",
      "Requirement already satisfied: numpy>=1.6.1 in c:\\python39\\lib\\site-packages (from wordcloud) (1.22.3)\n",
      "Requirement already satisfied: matplotlib in c:\\python39\\lib\\site-packages (from wordcloud) (3.5.1)\n",
      "Requirement already satisfied: pillow in c:\\python39\\lib\\site-packages (from wordcloud) (9.0.1)\n",
      "Requirement already satisfied: python-dateutil>=2.7 in c:\\python39\\lib\\site-packages (from matplotlib->wordcloud) (2.8.1)\n",
      "Requirement already satisfied: cycler>=0.10 in c:\\python39\\lib\\site-packages (from matplotlib->wordcloud) (0.10.0)\n",
      "Requirement already satisfied: kiwisolver>=1.0.1 in c:\\python39\\lib\\site-packages (from matplotlib->wordcloud) (1.4.0)\n",
      "Requirement already satisfied: pyparsing>=2.2.1 in c:\\python39\\lib\\site-packages (from matplotlib->wordcloud) (2.4.6)\n",
      "Requirement already satisfied: fonttools>=4.22.0 in c:\\python39\\lib\\site-packages (from matplotlib->wordcloud) (4.31.2)\n",
      "Requirement already satisfied: packaging>=20.0 in c:\\python39\\lib\\site-packages (from matplotlib->wordcloud) (21.3)\n",
      "Requirement already satisfied: six in c:\\python39\\lib\\site-packages (from cycler>=0.10->matplotlib->wordcloud) (1.14.0)\n"
     ]
    },
    {
     "name": "stderr",
     "output_type": "stream",
     "text": [
      "\n",
      "WARNING: Ignoring invalid distribution -ip (c:\\python39\\lib\\site-packages)\n",
      "WARNING: Ignoring invalid distribution -ip (c:\\python39\\lib\\site-packages)\n",
      "WARNING: Ignoring invalid distribution -ip (c:\\python39\\lib\\site-packages)\n",
      "WARNING: Ignoring invalid distribution -ip (c:\\python39\\lib\\site-packages)\n",
      "WARNING: Ignoring invalid distribution -ip (c:\\python39\\lib\\site-packages)\n"
     ]
    }
   ],
   "source": [
    "#wordcloud visualisation\n",
    "# %pip install wordcloud"
   ]
  },
  {
   "cell_type": "code",
   "execution_count": 38,
   "id": "751b8480",
   "metadata": {
    "ExecuteTime": {
     "end_time": "2024-01-02T07:44:40.543872800Z",
     "start_time": "2024-01-02T07:44:40.492174600Z"
    }
   },
   "outputs": [],
   "source": [
    "from wordcloud import WordCloud, STOPWORDS, ImageColorGenerator\n",
    "from PIL import Image\n",
    "\n",
    "stopwords = set(STOPWORDS)"
   ]
  },
  {
   "cell_type": "code",
   "execution_count": 39,
   "id": "ee73d577",
   "metadata": {
    "ExecuteTime": {
     "end_time": "2024-01-02T07:44:43.298501700Z",
     "start_time": "2024-01-02T07:44:43.225705800Z"
    }
   },
   "outputs": [
    {
     "name": "stdout",
     "output_type": "stream",
     "text": [
      "{'both', \"here's\", 'however', \"they'd\", 'who', \"weren't\", \"it's\", 'here', 'those', 'am', 'been', 'was', 'else', 'themselves', 'more', \"you'll\", \"we're\", 'ourselves', 'through', 'we', \"what's\", 'below', 'under', 'as', 'you', 'your', \"we'll\", 'can', 'its', 'their', 'any', \"they've\", 'also', \"mustn't\", 'until', \"don't\", \"i'm\", \"they'll\", 'whom', 'herself', \"that's\", 'at', 'if', \"aren't\", 'where', 'same', \"when's\", 'than', \"hadn't\", 'then', 'from', \"hasn't\", 'this', 'no', 'most', 'into', 'myself', 'me', 'own', 'when', \"haven't\", \"i'd\", 'they', 'i', 'and', 'are', 'have', 'himself', 'not', 'theirs', 'each', 'hers', 'his', 'therefore', 'by', 'again', 'yourselves', \"can't\", 'with', 'ever', 'otherwise', 'off', 'ought', 'what', 'an', \"didn't\", \"who's\", 'yours', 'my', 'the', 'during', 'could', 'some', \"shouldn't\", \"how's\", \"i've\", 'http', \"where's\", 'he', \"i'll\", 'did', \"he'll\", 'having', 'all', 'ours', 'to', 'r', \"there's\", 'for', 'our', 'against', 'up', 'him', 'in', \"won't\", \"you're\", 'like', \"let's\", 'just', 'once', 'but', 'has', 'about', 'which', 'above', \"you'd\", 'while', 'would', \"we've\", 'why', 'since', \"she'll\", 'yourself', 'or', \"wasn't\", 'before', 'nor', 'them', 'cannot', \"wouldn't\", \"doesn't\", 'these', \"we'd\", 'so', 'further', 'should', \"why's\", 'over', 'other', 'itself', 'of', 'had', 'she', \"you've\", \"she's\", 'www', \"she'd\", 'a', \"he'd\", 'hence', 'how', \"shan't\", 'doing', 'there', 'that', \"he's\", 'such', 'very', 'is', 'down', 'because', 'does', 'her', 'only', 'be', 'get', 'were', 'k', 'on', 'few', 'shall', 'out', 'being', 'com', 'do', 'it', 'too', \"they're\", 'after', \"isn't\", 'between', \"couldn't\"}\n"
     ]
    }
   ],
   "source": [
    "print(stopwords)"
   ]
  },
  {
   "cell_type": "code",
   "execution_count": 40,
   "outputs": [
    {
     "ename": "ValueError",
     "evalue": "Only supported for TrueType fonts",
     "output_type": "error",
     "traceback": [
      "\u001B[1;31m---------------------------------------------------------------------------\u001B[0m",
      "\u001B[1;31mValueError\u001B[0m                                Traceback (most recent call last)",
      "Input \u001B[1;32mIn [40]\u001B[0m, in \u001B[0;36m<cell line: 9>\u001B[1;34m()\u001B[0m\n\u001B[0;32m      1\u001B[0m \u001B[38;5;66;03m# print(str(type(df['sentiment'])))\u001B[39;00m\n\u001B[0;32m      2\u001B[0m \u001B[38;5;66;03m# data = \" \".join(text for text in df.text)\u001B[39;00m\n\u001B[0;32m      3\u001B[0m \u001B[38;5;66;03m# wordcloud = WordCloud().generate(\"Paresh\")\u001B[39;00m\n\u001B[0;32m      4\u001B[0m \u001B[38;5;66;03m# plt.imshow(wordcloud, interpolation='bilinear')\u001B[39;00m\n\u001B[0;32m      5\u001B[0m \u001B[38;5;66;03m# plt.axis(\"off\")\u001B[39;00m\n\u001B[0;32m      6\u001B[0m \u001B[38;5;66;03m# plt.show()\u001B[39;00m\n\u001B[0;32m      8\u001B[0m wc \u001B[38;5;241m=\u001B[39m WordCloud(background_color\u001B[38;5;241m=\u001B[39m\u001B[38;5;124m\"\u001B[39m\u001B[38;5;124mwhite\u001B[39m\u001B[38;5;124m\"\u001B[39m, width\u001B[38;5;241m=\u001B[39m\u001B[38;5;241m800\u001B[39m, height\u001B[38;5;241m=\u001B[39m\u001B[38;5;241m400\u001B[39m)\n\u001B[1;32m----> 9\u001B[0m \u001B[43mwc\u001B[49m\u001B[38;5;241;43m.\u001B[39;49m\u001B[43mgenerate\u001B[49m\u001B[43m(\u001B[49m\u001B[38;5;124;43m\"\u001B[39;49m\u001B[38;5;124;43mfoo bar foo bar hello world\u001B[39;49m\u001B[38;5;124;43m\"\u001B[39;49m\u001B[43m)\u001B[49m\n\u001B[0;32m     10\u001B[0m plt\u001B[38;5;241m.\u001B[39maxis(\u001B[38;5;124m\"\u001B[39m\u001B[38;5;124moff\u001B[39m\u001B[38;5;124m\"\u001B[39m)\n\u001B[0;32m     11\u001B[0m plt\u001B[38;5;241m.\u001B[39mimshow(wc)\n",
      "File \u001B[1;32mc:\\python39\\lib\\site-packages\\wordcloud\\wordcloud.py:642\u001B[0m, in \u001B[0;36mWordCloud.generate\u001B[1;34m(self, text)\u001B[0m\n\u001B[0;32m    627\u001B[0m \u001B[38;5;28;01mdef\u001B[39;00m \u001B[38;5;21mgenerate\u001B[39m(\u001B[38;5;28mself\u001B[39m, text):\n\u001B[0;32m    628\u001B[0m \u001B[38;5;250m    \u001B[39m\u001B[38;5;124;03m\"\"\"Generate wordcloud from text.\u001B[39;00m\n\u001B[0;32m    629\u001B[0m \n\u001B[0;32m    630\u001B[0m \u001B[38;5;124;03m    The input \"text\" is expected to be a natural text. If you pass a sorted\u001B[39;00m\n\u001B[1;32m   (...)\u001B[0m\n\u001B[0;32m    640\u001B[0m \u001B[38;5;124;03m    self\u001B[39;00m\n\u001B[0;32m    641\u001B[0m \u001B[38;5;124;03m    \"\"\"\u001B[39;00m\n\u001B[1;32m--> 642\u001B[0m     \u001B[38;5;28;01mreturn\u001B[39;00m \u001B[38;5;28;43mself\u001B[39;49m\u001B[38;5;241;43m.\u001B[39;49m\u001B[43mgenerate_from_text\u001B[49m\u001B[43m(\u001B[49m\u001B[43mtext\u001B[49m\u001B[43m)\u001B[49m\n",
      "File \u001B[1;32mc:\\python39\\lib\\site-packages\\wordcloud\\wordcloud.py:624\u001B[0m, in \u001B[0;36mWordCloud.generate_from_text\u001B[1;34m(self, text)\u001B[0m\n\u001B[0;32m    607\u001B[0m \u001B[38;5;250m\u001B[39m\u001B[38;5;124;03m\"\"\"Generate wordcloud from text.\u001B[39;00m\n\u001B[0;32m    608\u001B[0m \n\u001B[0;32m    609\u001B[0m \u001B[38;5;124;03mThe input \"text\" is expected to be a natural text. If you pass a sorted\u001B[39;00m\n\u001B[1;32m   (...)\u001B[0m\n\u001B[0;32m    621\u001B[0m \u001B[38;5;124;03mself\u001B[39;00m\n\u001B[0;32m    622\u001B[0m \u001B[38;5;124;03m\"\"\"\u001B[39;00m\n\u001B[0;32m    623\u001B[0m words \u001B[38;5;241m=\u001B[39m \u001B[38;5;28mself\u001B[39m\u001B[38;5;241m.\u001B[39mprocess_text(text)\n\u001B[1;32m--> 624\u001B[0m \u001B[38;5;28;43mself\u001B[39;49m\u001B[38;5;241;43m.\u001B[39;49m\u001B[43mgenerate_from_frequencies\u001B[49m\u001B[43m(\u001B[49m\u001B[43mwords\u001B[49m\u001B[43m)\u001B[49m\n\u001B[0;32m    625\u001B[0m \u001B[38;5;28;01mreturn\u001B[39;00m \u001B[38;5;28mself\u001B[39m\n",
      "File \u001B[1;32mc:\\python39\\lib\\site-packages\\wordcloud\\wordcloud.py:453\u001B[0m, in \u001B[0;36mWordCloud.generate_from_frequencies\u001B[1;34m(self, frequencies, max_font_size)\u001B[0m\n\u001B[0;32m    451\u001B[0m     font_size \u001B[38;5;241m=\u001B[39m \u001B[38;5;28mself\u001B[39m\u001B[38;5;241m.\u001B[39mheight\n\u001B[0;32m    452\u001B[0m \u001B[38;5;28;01melse\u001B[39;00m:\n\u001B[1;32m--> 453\u001B[0m     \u001B[38;5;28;43mself\u001B[39;49m\u001B[38;5;241;43m.\u001B[39;49m\u001B[43mgenerate_from_frequencies\u001B[49m\u001B[43m(\u001B[49m\u001B[38;5;28;43mdict\u001B[39;49m\u001B[43m(\u001B[49m\u001B[43mfrequencies\u001B[49m\u001B[43m[\u001B[49m\u001B[43m:\u001B[49m\u001B[38;5;241;43m2\u001B[39;49m\u001B[43m]\u001B[49m\u001B[43m)\u001B[49m\u001B[43m,\u001B[49m\n\u001B[0;32m    454\u001B[0m \u001B[43m                                   \u001B[49m\u001B[43mmax_font_size\u001B[49m\u001B[38;5;241;43m=\u001B[39;49m\u001B[38;5;28;43mself\u001B[39;49m\u001B[38;5;241;43m.\u001B[39;49m\u001B[43mheight\u001B[49m\u001B[43m)\u001B[49m\n\u001B[0;32m    455\u001B[0m     \u001B[38;5;66;03m# find font sizes\u001B[39;00m\n\u001B[0;32m    456\u001B[0m     sizes \u001B[38;5;241m=\u001B[39m [x[\u001B[38;5;241m1\u001B[39m] \u001B[38;5;28;01mfor\u001B[39;00m x \u001B[38;5;129;01min\u001B[39;00m \u001B[38;5;28mself\u001B[39m\u001B[38;5;241m.\u001B[39mlayout_]\n",
      "File \u001B[1;32mc:\\python39\\lib\\site-packages\\wordcloud\\wordcloud.py:511\u001B[0m, in \u001B[0;36mWordCloud.generate_from_frequencies\u001B[1;34m(self, frequencies, max_font_size)\u001B[0m\n\u001B[0;32m    508\u001B[0m transposed_font \u001B[38;5;241m=\u001B[39m ImageFont\u001B[38;5;241m.\u001B[39mTransposedFont(\n\u001B[0;32m    509\u001B[0m     font, orientation\u001B[38;5;241m=\u001B[39morientation)\n\u001B[0;32m    510\u001B[0m \u001B[38;5;66;03m# get size of resulting text\u001B[39;00m\n\u001B[1;32m--> 511\u001B[0m box_size \u001B[38;5;241m=\u001B[39m \u001B[43mdraw\u001B[49m\u001B[38;5;241;43m.\u001B[39;49m\u001B[43mtextbbox\u001B[49m\u001B[43m(\u001B[49m\u001B[43m(\u001B[49m\u001B[38;5;241;43m0\u001B[39;49m\u001B[43m,\u001B[49m\u001B[43m \u001B[49m\u001B[38;5;241;43m0\u001B[39;49m\u001B[43m)\u001B[49m\u001B[43m,\u001B[49m\u001B[43m \u001B[49m\u001B[43mword\u001B[49m\u001B[43m,\u001B[49m\u001B[43m \u001B[49m\u001B[43mfont\u001B[49m\u001B[38;5;241;43m=\u001B[39;49m\u001B[43mtransposed_font\u001B[49m\u001B[43m,\u001B[49m\u001B[43m \u001B[49m\u001B[43manchor\u001B[49m\u001B[38;5;241;43m=\u001B[39;49m\u001B[38;5;124;43m\"\u001B[39;49m\u001B[38;5;124;43mlt\u001B[39;49m\u001B[38;5;124;43m\"\u001B[39;49m\u001B[43m)\u001B[49m\n\u001B[0;32m    512\u001B[0m \u001B[38;5;66;03m# find possible places using integral image:\u001B[39;00m\n\u001B[0;32m    513\u001B[0m result \u001B[38;5;241m=\u001B[39m occupancy\u001B[38;5;241m.\u001B[39msample_position(box_size[\u001B[38;5;241m3\u001B[39m] \u001B[38;5;241m+\u001B[39m \u001B[38;5;28mself\u001B[39m\u001B[38;5;241m.\u001B[39mmargin,\n\u001B[0;32m    514\u001B[0m                                    box_size[\u001B[38;5;241m2\u001B[39m] \u001B[38;5;241m+\u001B[39m \u001B[38;5;28mself\u001B[39m\u001B[38;5;241m.\u001B[39mmargin,\n\u001B[0;32m    515\u001B[0m                                    random_state)\n",
      "File \u001B[1;32mc:\\python39\\lib\\site-packages\\PIL\\ImageDraw.py:671\u001B[0m, in \u001B[0;36mImageDraw.textbbox\u001B[1;34m(self, xy, text, font, anchor, spacing, align, direction, features, language, stroke_width, embedded_color)\u001B[0m\n\u001B[0;32m    669\u001B[0m     font \u001B[38;5;241m=\u001B[39m \u001B[38;5;28mself\u001B[39m\u001B[38;5;241m.\u001B[39mgetfont()\n\u001B[0;32m    670\u001B[0m \u001B[38;5;28;01mif\u001B[39;00m \u001B[38;5;129;01mnot\u001B[39;00m \u001B[38;5;28misinstance\u001B[39m(font, ImageFont\u001B[38;5;241m.\u001B[39mFreeTypeFont):\n\u001B[1;32m--> 671\u001B[0m     \u001B[38;5;28;01mraise\u001B[39;00m \u001B[38;5;167;01mValueError\u001B[39;00m(\u001B[38;5;124m\"\u001B[39m\u001B[38;5;124mOnly supported for TrueType fonts\u001B[39m\u001B[38;5;124m\"\u001B[39m)\n\u001B[0;32m    672\u001B[0m mode \u001B[38;5;241m=\u001B[39m \u001B[38;5;124m\"\u001B[39m\u001B[38;5;124mRGBA\u001B[39m\u001B[38;5;124m\"\u001B[39m \u001B[38;5;28;01mif\u001B[39;00m embedded_color \u001B[38;5;28;01melse\u001B[39;00m \u001B[38;5;28mself\u001B[39m\u001B[38;5;241m.\u001B[39mfontmode\n\u001B[0;32m    673\u001B[0m bbox \u001B[38;5;241m=\u001B[39m font\u001B[38;5;241m.\u001B[39mgetbbox(\n\u001B[0;32m    674\u001B[0m     text, mode, direction, features, language, stroke_width, anchor\n\u001B[0;32m    675\u001B[0m )\n",
      "\u001B[1;31mValueError\u001B[0m: Only supported for TrueType fonts"
     ]
    }
   ],
   "source": [
    " \n",
    "# print(str(type(df['sentiment'])))\n",
    "# data = \" \".join(text for text in df.text)\n",
    "# wordcloud = WordCloud().generate(\"Paresh\")\n",
    "# plt.imshow(wordcloud, interpolation='bilinear')\n",
    "# plt.axis(\"off\")\n",
    "# plt.show()\n",
    "\n",
    "wc = WordCloud(background_color=\"white\", width=800, height=400)\n",
    "wc.generate(\"foo bar foo bar hello world\")\n",
    "plt.axis(\"off\")\n",
    "plt.imshow(wc)\n",
    " \n",
    "plt.show()"
   ],
   "metadata": {
    "collapsed": false,
    "ExecuteTime": {
     "end_time": "2024-01-02T07:44:44.539872900Z",
     "start_time": "2024-01-02T07:44:44.318006800Z"
    }
   },
   "id": "e12a3bb6f3f8604f"
  },
  {
   "cell_type": "code",
   "execution_count": null,
   "id": "e6c8699d",
   "metadata": {
    "ExecuteTime": {
     "start_time": "2024-01-02T07:39:06.710695100Z"
    }
   },
   "outputs": [],
   "source": [
    "# Data Cleaning\n",
    "# lowercase, remove url, html, punctuations, retweet\n",
    "\n",
    "df['text'] = df['text'].apply(lambda x: x.lower())\n",
    "df['text'] = df['text'].apply(lambda x: _remove_urls(x))\n"
   ]
  },
  {
   "cell_type": "code",
   "execution_count": null,
   "id": "0554b75e",
   "metadata": {
    "ExecuteTime": {
     "start_time": "2024-01-02T07:39:06.719280Z"
    }
   },
   "outputs": [],
   "source": [
    "\n",
    "df['text'] = df['text'].apply(lambda x: _remove_special_chars(x))\n",
    "df['text'] = df['text'].apply(lambda x: _remove_rt(x))"
   ]
  },
  {
   "cell_type": "code",
   "execution_count": null,
   "id": "6558c125",
   "metadata": {
    "ExecuteTime": {
     "start_time": "2024-01-02T07:39:06.722271500Z"
    }
   },
   "outputs": [],
   "source": [
    " \n",
    "%pip install lxml"
   ]
  },
  {
   "cell_type": "code",
   "execution_count": null,
   "id": "be255ed0",
   "metadata": {
    "ExecuteTime": {
     "start_time": "2024-01-02T07:39:06.724796300Z"
    }
   },
   "outputs": [],
   "source": [
    "df['text'] = df['text'].apply(lambda x: _remove_html_tags(x))"
   ]
  },
  {
   "cell_type": "code",
   "execution_count": null,
   "id": "210edc9a",
   "metadata": {
    "ExecuteTime": {
     "start_time": "2024-01-02T07:39:06.727795900Z"
    }
   },
   "outputs": [],
   "source": [
    "from sklearn.model_selection import train_test_split\n",
    "\n",
    "X_train, X_test, y_train, y_test = train_test_split(df['text'],df['sentiment'],test_size=0.2, random_state=0)"
   ]
  },
  {
   "cell_type": "code",
   "execution_count": null,
   "id": "86ece007",
   "metadata": {
    "ExecuteTime": {
     "start_time": "2024-01-02T07:39:06.731785400Z"
    }
   },
   "outputs": [],
   "source": [
    "X_train.shape, X_test.shape"
   ]
  },
  {
   "cell_type": "code",
   "execution_count": null,
   "id": "b80dd078",
   "metadata": {
    "ExecuteTime": {
     "start_time": "2024-01-02T07:39:06.735295600Z"
    }
   },
   "outputs": [],
   "source": [
    "from sklearn.feature_extraction.text import TfidfVectorizer\n",
    "from sklearn.ensemble import RandomForestClassifier\n",
    "from sklearn.pipeline import Pipeline\n",
    "\n",
    "\n"
   ]
  },
  {
   "cell_type": "code",
   "execution_count": null,
   "id": "4ca074eb",
   "metadata": {
    "ExecuteTime": {
     "start_time": "2024-01-02T07:39:06.739292100Z"
    }
   },
   "outputs": [],
   "source": [
    "clf = Pipeline([('tfid',TfidfVectorizer() ), ('rfc',RandomForestClassifier(n_jobs=-1))])\n",
    "clf.fit(X_train, y_train)"
   ]
  },
  {
   "cell_type": "code",
   "execution_count": null,
   "id": "d85858dd",
   "metadata": {
    "ExecuteTime": {
     "start_time": "2024-01-02T07:39:06.745891200Z"
    }
   },
   "outputs": [],
   "source": [
    "from sklearn.metrics import classification_report \n"
   ]
  },
  {
   "cell_type": "code",
   "execution_count": null,
   "id": "d1a2b4a9",
   "metadata": {
    "ExecuteTime": {
     "start_time": "2024-01-02T07:39:06.755369100Z"
    }
   },
   "outputs": [],
   "source": [
    "y_pred = clf.predict(X_test)\n",
    "print(classification_report(y_test,y_pred))"
   ]
  },
  {
   "cell_type": "code",
   "execution_count": null,
   "id": "de592e89",
   "metadata": {
    "ExecuteTime": {
     "end_time": "2024-01-02T07:39:07.011138900Z",
     "start_time": "2024-01-02T07:39:06.761359600Z"
    }
   },
   "outputs": [],
   "source": [
    "import pickle\n",
    "pickle.dump(clf,open(\"twitter_sentiment.pkl\", 'wb'))"
   ]
  },
  {
   "cell_type": "code",
   "execution_count": null,
   "id": "1fb1bc0d",
   "metadata": {
    "ExecuteTime": {
     "start_time": "2024-01-02T07:39:06.770899400Z"
    }
   },
   "outputs": [],
   "source": [
    "clf.predict['How the hell']"
   ]
  },
  {
   "cell_type": "code",
   "execution_count": null,
   "id": "6b746b03",
   "metadata": {
    "ExecuteTime": {
     "start_time": "2024-01-02T07:39:06.776465200Z"
    }
   },
   "outputs": [],
   "source": []
  }
 ],
 "metadata": {
  "kernelspec": {
   "display_name": "Python 3 (ipykernel)",
   "language": "python",
   "name": "python3"
  },
  "language_info": {
   "codemirror_mode": {
    "name": "ipython",
    "version": 3
   },
   "file_extension": ".py",
   "mimetype": "text/x-python",
   "name": "python",
   "nbconvert_exporter": "python",
   "pygments_lexer": "ipython3",
   "version": "3.9.6"
  }
 },
 "nbformat": 4,
 "nbformat_minor": 5
}
